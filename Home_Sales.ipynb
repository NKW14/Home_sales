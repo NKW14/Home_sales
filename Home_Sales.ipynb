{
  "nbformat": 4,
  "nbformat_minor": 0,
  "metadata": {
    "colab": {
      "provenance": []
    },
    "kernelspec": {
      "name": "python3",
      "display_name": "Python 3"
    },
    "language_info": {
      "name": "python"
    }
  },
  "cells": [
    {
      "cell_type": "code",
      "execution_count": 2,
      "metadata": {
        "colab": {
          "base_uri": "https://localhost:8080/"
        },
        "id": "aYXD72g9K7r6",
        "outputId": "06e58091-faf3-46d3-eb63-024a4eb1f05a"
      },
      "outputs": [
        {
          "output_type": "stream",
          "name": "stdout",
          "text": [
            "\r0% [Working]\r            \rHit:1 https://cloud.r-project.org/bin/linux/ubuntu jammy-cran40/ InRelease\n",
            "\r0% [Connecting to archive.ubuntu.com (91.189.91.83)] [Connecting to security.ubuntu.com (91.189.91.8\r                                                                                                    \rHit:2 https://developer.download.nvidia.com/compute/cuda/repos/ubuntu2204/x86_64  InRelease\n",
            "\r0% [Waiting for headers] [Waiting for headers] [Connecting to r2u.stat.illinois.edu (192.17.190.167)\r                                                                                                    \rHit:3 https://ppa.launchpadcontent.net/deadsnakes/ppa/ubuntu jammy InRelease\n",
            "\r0% [Waiting for headers] [Waiting for headers] [Connected to r2u.stat.illinois.edu (192.17.190.167)]\r                                                                                                    \rHit:4 https://ppa.launchpadcontent.net/graphics-drivers/ppa/ubuntu jammy InRelease\n",
            "\r0% [Waiting for headers] [Waiting for headers] [Connected to r2u.stat.illinois.edu (192.17.190.167)]\r                                                                                                    \rHit:5 https://ppa.launchpadcontent.net/ubuntugis/ppa/ubuntu jammy InRelease\n",
            "\r0% [Waiting for headers] [Waiting for headers] [Connected to r2u.stat.illinois.edu (192.17.190.167)]\r                                                                                                    \rHit:6 http://archive.ubuntu.com/ubuntu jammy InRelease\n",
            "Hit:7 http://security.ubuntu.com/ubuntu jammy-security InRelease\n",
            "Hit:8 http://archive.ubuntu.com/ubuntu jammy-updates InRelease\n",
            "Hit:9 http://archive.ubuntu.com/ubuntu jammy-backports InRelease\n",
            "Ign:10 https://r2u.stat.illinois.edu/ubuntu jammy InRelease\n",
            "Hit:11 https://r2u.stat.illinois.edu/ubuntu jammy Release\n",
            "Reading package lists... Done\n",
            "W: Skipping acquire of configured file 'main/source/Sources' as repository 'https://r2u.stat.illinois.edu/ubuntu jammy InRelease' does not seem to provide it (sources.list entry misspelt?)\n"
          ]
        }
      ],
      "source": [
        "import os\n",
        "# Find the latest version of spark 3.x  from http://www.apache.org/dist/spark/ and enter as the spark version\n",
        "# For example:\n",
        "# spark_version = 'spark-3.4.0'\n",
        "spark_version = 'spark-3.5.3'\n",
        "os.environ['SPARK_VERSION']=spark_version\n",
        "\n",
        "# Install Spark and Java\n",
        "!apt-get update\n",
        "!apt-get install openjdk-11-jdk-headless -qq > /dev/null\n",
        "!wget -q http://www.apache.org/dist/spark/$SPARK_VERSION/$SPARK_VERSION-bin-hadoop3.tgz\n",
        "!tar xf $SPARK_VERSION-bin-hadoop3.tgz\n",
        "!pip install -q findspark\n",
        "\n",
        "# Set Environment Variables\n",
        "os.environ[\"JAVA_HOME\"] = \"/usr/lib/jvm/java-11-openjdk-amd64\"\n",
        "os.environ[\"SPARK_HOME\"] = f\"/content/{spark_version}-bin-hadoop3\"\n",
        "\n",
        "# Start a SparkSession\n",
        "import findspark\n",
        "findspark.init()"
      ]
    },
    {
      "cell_type": "code",
      "source": [
        "# Import packages\n",
        "from pyspark.sql import SparkSession\n",
        "import time\n",
        "\n",
        "# Create a SparkSession\n",
        "spark = SparkSession.builder.appName(\"SparkSQL\").getOrCreate()"
      ],
      "metadata": {
        "id": "d_lDIyB8LFxl"
      },
      "execution_count": 3,
      "outputs": []
    },
    {
      "cell_type": "code",
      "source": [
        "# 1. Read in the AWS S3 bucket into a DataFrame.\n",
        "from pyspark import SparkFiles\n",
        "url = \"https://2u-data-curriculum-team.s3.amazonaws.com/dataviz-classroom/v1.2/22-big-data/home_sales_revised.csv\""
      ],
      "metadata": {
        "id": "FQln7BNiLODY"
      },
      "execution_count": 4,
      "outputs": []
    },
    {
      "cell_type": "code",
      "source": [
        "# 2. Create a temporary view of the DataFrame.\n",
        "spark.sparkContext.addFile(url)\n",
        "df = spark.read.csv(SparkFiles.get(\"home_sales_revised.csv\"), sep=\",\", header=True)\n",
        "df.createOrReplaceTempView('home_sales')\n"
      ],
      "metadata": {
        "id": "6GsTzDprLQhc"
      },
      "execution_count": 7,
      "outputs": []
    },
    {
      "cell_type": "code",
      "source": [
        "spark.sql(\"\"\"\n",
        "SELECT * FROM home_sales\n",
        "\"\"\").show()"
      ],
      "metadata": {
        "colab": {
          "base_uri": "https://localhost:8080/"
        },
        "id": "RRGxFpt2PNUv",
        "outputId": "892582de-46d6-4fa7-9e30-453a7510ccab"
      },
      "execution_count": 8,
      "outputs": [
        {
          "output_type": "stream",
          "name": "stdout",
          "text": [
            "+--------------------+----------+----------+------+--------+---------+-----------+--------+------+----------+----+\n",
            "|                  id|      date|date_built| price|bedrooms|bathrooms|sqft_living|sqft_lot|floors|waterfront|view|\n",
            "+--------------------+----------+----------+------+--------+---------+-----------+--------+------+----------+----+\n",
            "|f8a53099-ba1c-47d...|2022-04-08|      2016|936923|       4|        3|       3167|   11733|     2|         1|  76|\n",
            "|7530a2d8-1ae3-451...|2021-06-13|      2013|379628|       2|        2|       2235|   14384|     1|         0|  23|\n",
            "|43de979c-0bf0-4c9...|2019-04-12|      2014|417866|       2|        2|       2127|   10575|     2|         0|   0|\n",
            "|b672c137-b88c-48b...|2019-10-16|      2016|239895|       2|        2|       1631|   11149|     2|         0|   0|\n",
            "|e0726d4d-d595-407...|2022-01-08|      2017|424418|       3|        2|       2249|   13878|     2|         0|   4|\n",
            "|5aa00529-0533-46b...|2019-01-30|      2017|218712|       2|        3|       1965|   14375|     2|         0|   7|\n",
            "|131492a1-72e2-4a8...|2020-02-08|      2017|419199|       2|        3|       2062|    8876|     2|         0|   6|\n",
            "|8d54a71b-c520-44e...|2019-07-21|      2010|323956|       2|        3|       1506|   11816|     1|         0|  25|\n",
            "|e81aacfe-17fe-46b...|2020-06-16|      2016|181925|       3|        3|       2137|   11709|     2|         0|  22|\n",
            "|2ed8d509-7372-46d...|2021-08-06|      2015|258710|       3|        3|       1918|    9666|     1|         0|  25|\n",
            "|f876d86f-3c9f-42b...|2019-02-27|      2011|167864|       3|        3|       2471|   13924|     2|         0|  15|\n",
            "|0a2bd445-8508-4d8...|2021-12-30|      2014|337527|       2|        3|       1926|   12556|     1|         0|  23|\n",
            "|941bad30-eb49-4a7...|2020-05-09|      2015|229896|       3|        3|       2197|    8641|     1|         0|   3|\n",
            "|dd61eb34-6589-4c0...|2021-07-25|      2016|210247|       3|        2|       1672|   11986|     2|         0|  28|\n",
            "|f1e4cef7-d151-439...|2019-02-01|      2011|398667|       2|        3|       2331|   11356|     1|         0|   7|\n",
            "|ea620c7b-c2f7-4c6...|2021-05-31|      2011|437958|       3|        3|       2356|   11052|     1|         0|  26|\n",
            "|f233cb41-6f33-4b0...|2021-07-18|      2016|437375|       4|        3|       1704|   11721|     2|         0|  34|\n",
            "|c797ca12-52cd-4b1...|2019-06-08|      2015|288650|       2|        3|       2100|   10419|     2|         0|   7|\n",
            "|0cfe57f3-28c2-472...|2019-10-04|      2015|308313|       3|        3|       1960|    9453|     2|         0|   2|\n",
            "|4566cd2a-ac6e-435...|2019-07-15|      2016|177541|       3|        3|       2130|   10517|     2|         0|  25|\n",
            "+--------------------+----------+----------+------+--------+---------+-----------+--------+------+----------+----+\n",
            "only showing top 20 rows\n",
            "\n"
          ]
        }
      ]
    },
    {
      "cell_type": "code",
      "source": [
        "# 3. What is the average price for a four bedroom house sold per year, rounded to two decimal places?\n",
        "spark.sql(\"\"\"\n",
        "SELECT ROUND(AVG(price),2) as avg_price, YEAR(date) as year\n",
        "FROM home_sales\n",
        "WHERE bedrooms == 4\n",
        "GROUP BY year\n",
        "ORDER BY year\n",
        "\"\"\").show()"
      ],
      "metadata": {
        "colab": {
          "base_uri": "https://localhost:8080/"
        },
        "id": "mgssW0NoMH-Y",
        "outputId": "c436083d-42e1-4290-8eec-c3024e5c9f57"
      },
      "execution_count": 9,
      "outputs": [
        {
          "output_type": "stream",
          "name": "stdout",
          "text": [
            "+---------+----+\n",
            "|avg_price|year|\n",
            "+---------+----+\n",
            "| 300263.7|2019|\n",
            "|298353.78|2020|\n",
            "|301819.44|2021|\n",
            "|296363.88|2022|\n",
            "+---------+----+\n",
            "\n"
          ]
        }
      ]
    },
    {
      "cell_type": "code",
      "source": [
        "# 4. What is the average price of a home for each year the home was built,\n",
        "# that have 3 bedrooms and 3 bathrooms, rounded to two decimal places?\n",
        "spark.sql(\"\"\"\n",
        "SELECT ROUND(AVG(price), 2) as avg_price, date_built\n",
        "FROM home_sales\n",
        "WHERE bedrooms == 3\n",
        "AND bathrooms == 3\n",
        "GROUP BY date_built\n",
        "ORDER BY date_built\n",
        "\"\"\").show()"
      ],
      "metadata": {
        "colab": {
          "base_uri": "https://localhost:8080/"
        },
        "id": "PXQrlR-5MLSB",
        "outputId": "252df077-dd61-4bf2-da4d-6e8893d88e40"
      },
      "execution_count": 11,
      "outputs": [
        {
          "output_type": "stream",
          "name": "stdout",
          "text": [
            "+---------+----------+\n",
            "|avg_price|date_built|\n",
            "+---------+----------+\n",
            "|292859.62|      2010|\n",
            "|291117.47|      2011|\n",
            "|293683.19|      2012|\n",
            "|295962.27|      2013|\n",
            "|290852.27|      2014|\n",
            "| 288770.3|      2015|\n",
            "|290555.07|      2016|\n",
            "|292676.79|      2017|\n",
            "+---------+----------+\n",
            "\n"
          ]
        }
      ]
    },
    {
      "cell_type": "code",
      "source": [
        "# 5. What is the average price of a home for each year the home was built,\n",
        "# that have 3 bedrooms, 3 bathrooms, with two floors,\n",
        "# and are greater than or equal to 2,000 square feet, rounded to two decimal places?\n",
        "spark.sql(\"\"\"\n",
        "SELECT ROUND(AVG(price), 2) as avg_price, date_built\n",
        "FROM home_sales\n",
        "WHERE bedrooms == 3\n",
        "AND bathrooms == 3\n",
        "AND floors == 2\n",
        "AND sqft_living >= 2000\n",
        "GROUP BY date_built\n",
        "ORDER BY date_built\n",
        "\"\"\").show()"
      ],
      "metadata": {
        "colab": {
          "base_uri": "https://localhost:8080/"
        },
        "id": "i4-MH0g8MN1C",
        "outputId": "7534fed9-41f9-4bcc-ef58-45e1977d1c40"
      },
      "execution_count": 12,
      "outputs": [
        {
          "output_type": "stream",
          "name": "stdout",
          "text": [
            "+---------+----------+\n",
            "|avg_price|date_built|\n",
            "+---------+----------+\n",
            "|285010.22|      2010|\n",
            "|276553.81|      2011|\n",
            "|307539.97|      2012|\n",
            "|303676.79|      2013|\n",
            "|298264.72|      2014|\n",
            "|297609.97|      2015|\n",
            "| 293965.1|      2016|\n",
            "|280317.58|      2017|\n",
            "+---------+----------+\n",
            "\n"
          ]
        }
      ]
    },
    {
      "cell_type": "code",
      "source": [
        "# 6. What is the average price of a home per \"view\" rating, rounded to two decimal places,\n",
        "# having an average home price greater than or equal to $350,000? Order by descending view rating.\n",
        "# Although this is a small dataset, determine the run time for this query.\n",
        "\n",
        "start_time = time.time()\n",
        "spark.sql(\"\"\"\n",
        "WITH price_per_view\n",
        "(SELECT ROUND(AVG(price), 2) as avg_price, view\n",
        "FROM home_sales\n",
        "GROUP BY view\n",
        "ORDER BY view DESC)\n",
        "SELECT avg_price, view\n",
        "FROM price_per_view\n",
        "WHERE avg_price >= 350000\n",
        "\"\"\").show()\n",
        "\n",
        "\n",
        "print(\"--- %s seconds ---\" % (time.time() - start_time))"
      ],
      "metadata": {
        "colab": {
          "base_uri": "https://localhost:8080/"
        },
        "id": "vz6x579rMRaL",
        "outputId": "bc841eb4-02c2-4ab9-fcc7-ae0c4baa47f1"
      },
      "execution_count": 14,
      "outputs": [
        {
          "output_type": "stream",
          "name": "stdout",
          "text": [
            "+----------+----+\n",
            "| avg_price|view|\n",
            "+----------+----+\n",
            "|1061201.42|  99|\n",
            "|1053739.33|  98|\n",
            "|1129040.15|  97|\n",
            "|1017815.92|  96|\n",
            "| 1054325.6|  95|\n",
            "| 1033536.2|  94|\n",
            "|1026006.06|  93|\n",
            "| 970402.55|  92|\n",
            "|1137372.73|  91|\n",
            "|1062654.16|  90|\n",
            "|1107839.15|  89|\n",
            "|1031719.35|  88|\n",
            "| 1072285.2|  87|\n",
            "|1070444.25|  86|\n",
            "|1056336.74|  85|\n",
            "|1117233.13|  84|\n",
            "|1033965.93|  83|\n",
            "| 1063498.0|  82|\n",
            "|1053472.79|  81|\n",
            "| 991767.38|  80|\n",
            "+----------+----+\n",
            "only showing top 20 rows\n",
            "\n",
            "--- 0.969506025314331 seconds ---\n"
          ]
        }
      ]
    },
    {
      "cell_type": "code",
      "source": [
        "# 7. Cache the the temporary table home_sales.\n",
        "spark.sql(\"cache table home_sales\")"
      ],
      "metadata": {
        "colab": {
          "base_uri": "https://localhost:8080/"
        },
        "id": "rNPDlrgoMTfi",
        "outputId": "8fd8cd92-0ad6-4893-d9ae-c16d7a1f9004"
      },
      "execution_count": 15,
      "outputs": [
        {
          "output_type": "execute_result",
          "data": {
            "text/plain": [
              "DataFrame[]"
            ]
          },
          "metadata": {},
          "execution_count": 15
        }
      ]
    },
    {
      "cell_type": "code",
      "source": [
        "# 8. Check if the table is cached.\n",
        "spark.catalog.isCached('home_sales')"
      ],
      "metadata": {
        "colab": {
          "base_uri": "https://localhost:8080/"
        },
        "id": "MKUotFqzMVYx",
        "outputId": "241d5803-b09b-42c5-a5ec-83829986ac6a"
      },
      "execution_count": 16,
      "outputs": [
        {
          "output_type": "execute_result",
          "data": {
            "text/plain": [
              "True"
            ]
          },
          "metadata": {},
          "execution_count": 16
        }
      ]
    },
    {
      "cell_type": "code",
      "source": [
        "# 9. Using the cached data, run the last query above, that calculates\n",
        "# the average price of a home per \"view\" rating, rounded to two decimal places,\n",
        "# having an average home price greater than or equal to $350,000.\n",
        "# Determine the runtime and compare it to the uncached runtime.\n",
        "\n",
        "start_time = time.time()\n",
        "spark.sql(\"\"\"\n",
        "WITH price_per_view\n",
        "(SELECT ROUND(AVG(price), 2) as avg_price, view\n",
        "FROM home_sales\n",
        "GROUP BY view\n",
        "ORDER BY view DESC)\n",
        "SELECT avg_price, view\n",
        "FROM price_per_view\n",
        "WHERE avg_price >= 350000\n",
        "\"\"\").show()\n",
        "\n",
        "\n",
        "\n",
        "print(\"--- %s seconds ---\" % (time.time() - start_time))"
      ],
      "metadata": {
        "colab": {
          "base_uri": "https://localhost:8080/"
        },
        "id": "2QyeZHC_MXiF",
        "outputId": "213eddbc-a0b6-40cd-d705-c03cb6a17d03"
      },
      "execution_count": 17,
      "outputs": [
        {
          "output_type": "stream",
          "name": "stdout",
          "text": [
            "+----------+----+\n",
            "| avg_price|view|\n",
            "+----------+----+\n",
            "|1061201.42|  99|\n",
            "|1053739.33|  98|\n",
            "|1129040.15|  97|\n",
            "|1017815.92|  96|\n",
            "| 1054325.6|  95|\n",
            "| 1033536.2|  94|\n",
            "|1026006.06|  93|\n",
            "| 970402.55|  92|\n",
            "|1137372.73|  91|\n",
            "|1062654.16|  90|\n",
            "|1107839.15|  89|\n",
            "|1031719.35|  88|\n",
            "| 1072285.2|  87|\n",
            "|1070444.25|  86|\n",
            "|1056336.74|  85|\n",
            "|1117233.13|  84|\n",
            "|1033965.93|  83|\n",
            "| 1063498.0|  82|\n",
            "|1053472.79|  81|\n",
            "| 991767.38|  80|\n",
            "+----------+----+\n",
            "only showing top 20 rows\n",
            "\n",
            "--- 0.5317258834838867 seconds ---\n"
          ]
        }
      ]
    },
    {
      "cell_type": "code",
      "source": [
        "# 10. Partition by the \"date_built\" field on the formatted parquet home sales data\n",
        "df.write.partitionBy(\"date_built\").mode(\"overwrite\").parquet(\"home_sales_partitioned\")\n",
        "\n"
      ],
      "metadata": {
        "id": "EF6g4-2uManL"
      },
      "execution_count": 18,
      "outputs": []
    },
    {
      "cell_type": "code",
      "source": [
        "# 11. Read the formatted parquet data.\n",
        "p_df = spark.read.parquet(\"home_sales_partitioned\")"
      ],
      "metadata": {
        "id": "M9bChjqAMcYi"
      },
      "execution_count": 19,
      "outputs": []
    },
    {
      "cell_type": "code",
      "source": [
        "# 12. Create a temporary table for the parquet data.\n",
        "p_df.createOrReplaceTempView('p_df')"
      ],
      "metadata": {
        "id": "T5rHtSjoMeWt"
      },
      "execution_count": 20,
      "outputs": []
    },
    {
      "cell_type": "code",
      "source": [
        "# 13. Using the parquet DataFrame, run the last query above, that calculates\n",
        "# the average price of a home per \"view\" rating, rounded to two decimal places,\n",
        "# having an average home price greater than or equal to $350,000.\n",
        "# Determine the runtime and compare it to the cached runtime.\n",
        "\n",
        "start_time = time.time()\n",
        "spark.sql(\"\"\"\n",
        "WITH price_per_view\n",
        "(SELECT ROUND(AVG(price), 2) as avg_price, view\n",
        "FROM p_df\n",
        "GROUP BY view\n",
        "ORDER BY view DESC)\n",
        "SELECT avg_price, view\n",
        "FROM price_per_view\n",
        "WHERE avg_price >= 350000\n",
        "\"\"\").show()\n",
        "\n",
        "\n",
        "\n",
        "print(\"--- %s seconds ---\" % (time.time() - start_time))"
      ],
      "metadata": {
        "colab": {
          "base_uri": "https://localhost:8080/"
        },
        "id": "3gLY_JpUMgEr",
        "outputId": "bcee96ec-908d-4e62-e793-1535c29a5627"
      },
      "execution_count": 21,
      "outputs": [
        {
          "output_type": "stream",
          "name": "stdout",
          "text": [
            "+----------+----+\n",
            "| avg_price|view|\n",
            "+----------+----+\n",
            "|1061201.42|  99|\n",
            "|1053739.33|  98|\n",
            "|1129040.15|  97|\n",
            "|1017815.92|  96|\n",
            "| 1054325.6|  95|\n",
            "| 1033536.2|  94|\n",
            "|1026006.06|  93|\n",
            "| 970402.55|  92|\n",
            "|1137372.73|  91|\n",
            "|1062654.16|  90|\n",
            "|1107839.15|  89|\n",
            "|1031719.35|  88|\n",
            "| 1072285.2|  87|\n",
            "|1070444.25|  86|\n",
            "|1056336.74|  85|\n",
            "|1117233.13|  84|\n",
            "|1033965.93|  83|\n",
            "| 1063498.0|  82|\n",
            "|1053472.79|  81|\n",
            "| 991767.38|  80|\n",
            "+----------+----+\n",
            "only showing top 20 rows\n",
            "\n",
            "--- 1.13826584815979 seconds ---\n"
          ]
        }
      ]
    },
    {
      "cell_type": "code",
      "source": [
        "# 14. Uncache the home_sales temporary table.\n",
        "spark.sql(\"uncache table home_sales\")"
      ],
      "metadata": {
        "colab": {
          "base_uri": "https://localhost:8080/"
        },
        "id": "ITKRydtWMiF7",
        "outputId": "d4df8e98-ffdb-43c5-a7f3-977bc1821632"
      },
      "execution_count": 22,
      "outputs": [
        {
          "output_type": "execute_result",
          "data": {
            "text/plain": [
              "DataFrame[]"
            ]
          },
          "metadata": {},
          "execution_count": 22
        }
      ]
    },
    {
      "cell_type": "code",
      "source": [
        "# 15. Check if the home_sales is no longer cached\n",
        "if spark.catalog.isCached(\"home_sales\"):\n",
        "  print(\"home_sales is still cached\")\n",
        "else:\n",
        "  print(\"all clear\")"
      ],
      "metadata": {
        "colab": {
          "base_uri": "https://localhost:8080/"
        },
        "id": "IRiDNZhmMkxL",
        "outputId": "d32b2055-09a8-4cc2-d8ef-a8159b553262"
      },
      "execution_count": 23,
      "outputs": [
        {
          "output_type": "stream",
          "name": "stdout",
          "text": [
            "all clear\n"
          ]
        }
      ]
    }
  ]
}